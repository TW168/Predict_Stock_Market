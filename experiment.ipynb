{
 "cells": [
  {
   "cell_type": "markdown",
   "metadata": {},
   "source": [
    "# Predict The Stock Market With Machine Learning And Python\n",
    "## source: https://www.youtube.com/watch?v=1O_BenficgE"
   ]
  },
  {
   "cell_type": "code",
   "execution_count": 1,
   "metadata": {},
   "outputs": [],
   "source": [
    "import pandas as pd\n",
    "import numpy as np\n",
    "import yfinance as yf\n",
    "import matplotlib.pyplot as plt"
   ]
  },
  {
   "cell_type": "code",
   "execution_count": 2,
   "metadata": {},
   "outputs": [],
   "source": [
    "# download S&P 500 historical stock data object\n",
    "sp500 = yf.Ticker(\"^GSPC\")"
   ]
  },
  {
   "cell_type": "code",
   "execution_count": 3,
   "metadata": {},
   "outputs": [
    {
     "data": {
      "text/html": [
       "<div>\n",
       "<style scoped>\n",
       "    .dataframe tbody tr th:only-of-type {\n",
       "        vertical-align: middle;\n",
       "    }\n",
       "\n",
       "    .dataframe tbody tr th {\n",
       "        vertical-align: top;\n",
       "    }\n",
       "\n",
       "    .dataframe thead th {\n",
       "        text-align: right;\n",
       "    }\n",
       "</style>\n",
       "<table border=\"1\" class=\"dataframe\">\n",
       "  <thead>\n",
       "    <tr style=\"text-align: right;\">\n",
       "      <th></th>\n",
       "      <th>Open</th>\n",
       "      <th>High</th>\n",
       "      <th>Low</th>\n",
       "      <th>Close</th>\n",
       "      <th>Volume</th>\n",
       "      <th>Dividends</th>\n",
       "      <th>Stock Splits</th>\n",
       "    </tr>\n",
       "    <tr>\n",
       "      <th>Date</th>\n",
       "      <th></th>\n",
       "      <th></th>\n",
       "      <th></th>\n",
       "      <th></th>\n",
       "      <th></th>\n",
       "      <th></th>\n",
       "      <th></th>\n",
       "    </tr>\n",
       "  </thead>\n",
       "  <tbody>\n",
       "    <tr>\n",
       "      <th>1927-12-30 00:00:00-05:00</th>\n",
       "      <td>17.660000</td>\n",
       "      <td>17.660000</td>\n",
       "      <td>17.660000</td>\n",
       "      <td>17.660000</td>\n",
       "      <td>0</td>\n",
       "      <td>0.0</td>\n",
       "      <td>0.0</td>\n",
       "    </tr>\n",
       "    <tr>\n",
       "      <th>1928-01-03 00:00:00-05:00</th>\n",
       "      <td>17.760000</td>\n",
       "      <td>17.760000</td>\n",
       "      <td>17.760000</td>\n",
       "      <td>17.760000</td>\n",
       "      <td>0</td>\n",
       "      <td>0.0</td>\n",
       "      <td>0.0</td>\n",
       "    </tr>\n",
       "    <tr>\n",
       "      <th>1928-01-04 00:00:00-05:00</th>\n",
       "      <td>17.719999</td>\n",
       "      <td>17.719999</td>\n",
       "      <td>17.719999</td>\n",
       "      <td>17.719999</td>\n",
       "      <td>0</td>\n",
       "      <td>0.0</td>\n",
       "      <td>0.0</td>\n",
       "    </tr>\n",
       "    <tr>\n",
       "      <th>1928-01-05 00:00:00-05:00</th>\n",
       "      <td>17.549999</td>\n",
       "      <td>17.549999</td>\n",
       "      <td>17.549999</td>\n",
       "      <td>17.549999</td>\n",
       "      <td>0</td>\n",
       "      <td>0.0</td>\n",
       "      <td>0.0</td>\n",
       "    </tr>\n",
       "    <tr>\n",
       "      <th>1928-01-06 00:00:00-05:00</th>\n",
       "      <td>17.660000</td>\n",
       "      <td>17.660000</td>\n",
       "      <td>17.660000</td>\n",
       "      <td>17.660000</td>\n",
       "      <td>0</td>\n",
       "      <td>0.0</td>\n",
       "      <td>0.0</td>\n",
       "    </tr>\n",
       "    <tr>\n",
       "      <th>...</th>\n",
       "      <td>...</td>\n",
       "      <td>...</td>\n",
       "      <td>...</td>\n",
       "      <td>...</td>\n",
       "      <td>...</td>\n",
       "      <td>...</td>\n",
       "      <td>...</td>\n",
       "    </tr>\n",
       "    <tr>\n",
       "      <th>2023-11-01 00:00:00-04:00</th>\n",
       "      <td>4201.270020</td>\n",
       "      <td>4245.640137</td>\n",
       "      <td>4197.740234</td>\n",
       "      <td>4237.859863</td>\n",
       "      <td>4224900000</td>\n",
       "      <td>0.0</td>\n",
       "      <td>0.0</td>\n",
       "    </tr>\n",
       "    <tr>\n",
       "      <th>2023-11-02 00:00:00-04:00</th>\n",
       "      <td>4268.259766</td>\n",
       "      <td>4319.720215</td>\n",
       "      <td>4268.259766</td>\n",
       "      <td>4317.779785</td>\n",
       "      <td>4669780000</td>\n",
       "      <td>0.0</td>\n",
       "      <td>0.0</td>\n",
       "    </tr>\n",
       "    <tr>\n",
       "      <th>2023-11-03 00:00:00-04:00</th>\n",
       "      <td>4334.229980</td>\n",
       "      <td>4373.620117</td>\n",
       "      <td>4334.229980</td>\n",
       "      <td>4358.339844</td>\n",
       "      <td>4570960000</td>\n",
       "      <td>0.0</td>\n",
       "      <td>0.0</td>\n",
       "    </tr>\n",
       "    <tr>\n",
       "      <th>2023-11-06 00:00:00-05:00</th>\n",
       "      <td>4364.270020</td>\n",
       "      <td>4372.209961</td>\n",
       "      <td>4347.529785</td>\n",
       "      <td>4365.979980</td>\n",
       "      <td>3656340000</td>\n",
       "      <td>0.0</td>\n",
       "      <td>0.0</td>\n",
       "    </tr>\n",
       "    <tr>\n",
       "      <th>2023-11-07 00:00:00-05:00</th>\n",
       "      <td>4366.209961</td>\n",
       "      <td>4386.259766</td>\n",
       "      <td>4355.410156</td>\n",
       "      <td>4378.379883</td>\n",
       "      <td>3791230000</td>\n",
       "      <td>0.0</td>\n",
       "      <td>0.0</td>\n",
       "    </tr>\n",
       "  </tbody>\n",
       "</table>\n",
       "<p>24079 rows × 7 columns</p>\n",
       "</div>"
      ],
      "text/plain": [
       "                                  Open         High          Low        Close  \\\n",
       "Date                                                                            \n",
       "1927-12-30 00:00:00-05:00    17.660000    17.660000    17.660000    17.660000   \n",
       "1928-01-03 00:00:00-05:00    17.760000    17.760000    17.760000    17.760000   \n",
       "1928-01-04 00:00:00-05:00    17.719999    17.719999    17.719999    17.719999   \n",
       "1928-01-05 00:00:00-05:00    17.549999    17.549999    17.549999    17.549999   \n",
       "1928-01-06 00:00:00-05:00    17.660000    17.660000    17.660000    17.660000   \n",
       "...                                ...          ...          ...          ...   \n",
       "2023-11-01 00:00:00-04:00  4201.270020  4245.640137  4197.740234  4237.859863   \n",
       "2023-11-02 00:00:00-04:00  4268.259766  4319.720215  4268.259766  4317.779785   \n",
       "2023-11-03 00:00:00-04:00  4334.229980  4373.620117  4334.229980  4358.339844   \n",
       "2023-11-06 00:00:00-05:00  4364.270020  4372.209961  4347.529785  4365.979980   \n",
       "2023-11-07 00:00:00-05:00  4366.209961  4386.259766  4355.410156  4378.379883   \n",
       "\n",
       "                               Volume  Dividends  Stock Splits  \n",
       "Date                                                            \n",
       "1927-12-30 00:00:00-05:00           0        0.0           0.0  \n",
       "1928-01-03 00:00:00-05:00           0        0.0           0.0  \n",
       "1928-01-04 00:00:00-05:00           0        0.0           0.0  \n",
       "1928-01-05 00:00:00-05:00           0        0.0           0.0  \n",
       "1928-01-06 00:00:00-05:00           0        0.0           0.0  \n",
       "...                               ...        ...           ...  \n",
       "2023-11-01 00:00:00-04:00  4224900000        0.0           0.0  \n",
       "2023-11-02 00:00:00-04:00  4669780000        0.0           0.0  \n",
       "2023-11-03 00:00:00-04:00  4570960000        0.0           0.0  \n",
       "2023-11-06 00:00:00-05:00  3656340000        0.0           0.0  \n",
       "2023-11-07 00:00:00-05:00  3791230000        0.0           0.0  \n",
       "\n",
       "[24079 rows x 7 columns]"
      ]
     },
     "execution_count": 3,
     "metadata": {},
     "output_type": "execute_result"
    }
   ],
   "source": [
    "# query the stock price\n",
    "sp500 = sp500.history(period=\"max\")\n",
    "sp500"
   ]
  },
  {
   "cell_type": "code",
   "execution_count": 4,
   "metadata": {},
   "outputs": [
    {
     "data": {
      "text/plain": [
       "Index(['Open', 'High', 'Low', 'Close', 'Volume', 'Dividends', 'Stock Splits'], dtype='object')"
      ]
     },
     "execution_count": 4,
     "metadata": {},
     "output_type": "execute_result"
    }
   ],
   "source": [
    "sp500_col_names = sp500.columns\n",
    "sp500_col_names"
   ]
  },
  {
   "cell_type": "code",
   "execution_count": 5,
   "metadata": {},
   "outputs": [
    {
     "data": {
      "text/plain": [
       "DatetimeIndex(['1927-12-30 00:00:00-05:00', '1928-01-03 00:00:00-05:00',\n",
       "               '1928-01-04 00:00:00-05:00', '1928-01-05 00:00:00-05:00',\n",
       "               '1928-01-06 00:00:00-05:00', '1928-01-09 00:00:00-05:00',\n",
       "               '1928-01-10 00:00:00-05:00', '1928-01-11 00:00:00-05:00',\n",
       "               '1928-01-12 00:00:00-05:00', '1928-01-13 00:00:00-05:00',\n",
       "               ...\n",
       "               '2023-10-25 00:00:00-04:00', '2023-10-26 00:00:00-04:00',\n",
       "               '2023-10-27 00:00:00-04:00', '2023-10-30 00:00:00-04:00',\n",
       "               '2023-10-31 00:00:00-04:00', '2023-11-01 00:00:00-04:00',\n",
       "               '2023-11-02 00:00:00-04:00', '2023-11-03 00:00:00-04:00',\n",
       "               '2023-11-06 00:00:00-05:00', '2023-11-07 00:00:00-05:00'],\n",
       "              dtype='datetime64[ns, America/New_York]', name='Date', length=24079, freq=None)"
      ]
     },
     "execution_count": 5,
     "metadata": {},
     "output_type": "execute_result"
    }
   ],
   "source": [
    "sp500.index"
   ]
  },
  {
   "cell_type": "markdown",
   "metadata": {},
   "source": [
    "Clean and plot"
   ]
  },
  {
   "cell_type": "code",
   "execution_count": 6,
   "metadata": {},
   "outputs": [
    {
     "data": {
      "text/plain": [
       "<Axes: xlabel='Date'>"
      ]
     },
     "execution_count": 6,
     "metadata": {},
     "output_type": "execute_result"
    },
    {
     "data": {
      "image/png": "[encoded data removed]",
      "text/plain": [
       "<Figure size 640x480 with 1 Axes>"
      ]
     },
     "metadata": {},
     "output_type": "display_data"
    }
   ],
   "source": [
    "sp500.plot.line(y=\"Close\", use_index=True)"
   ]
  },
  {
   "cell_type": "code",
   "execution_count": 7,
   "metadata": {},
   "outputs": [],
   "source": [
    "# useful for stock not index\n",
    "del sp500[\"Dividends\"]\n",
    "del sp500[\"Stock Splits\"]"
   ]
  },
  {
   "cell_type": "markdown",
   "metadata": {},
   "source": [
    "<h1> Setting up traget for ML</h1>\n",
    "predict price up or down"
   ]
  },
  {
   "cell_type": "code",
   "execution_count": 8,
   "metadata": {},
   "outputs": [],
   "source": [
    "# create tomorrow column\n",
    "sp500[\"Tomorrow\"] = sp500[\"Close\"].shift(-1)\n"
   ]
  },
  {
   "cell_type": "code",
   "execution_count": 9,
   "metadata": {},
   "outputs": [
    {
     "data": {
      "text/html": [
       "<div>\n",
       "<style scoped>\n",
       "    .dataframe tbody tr th:only-of-type {\n",
       "        vertical-align: middle;\n",
       "    }\n",
       "\n",
       "    .dataframe tbody tr th {\n",
       "        vertical-align: top;\n",
       "    }\n",
       "\n",
       "    .dataframe thead th {\n",
       "        text-align: right;\n",
       "    }\n",
       "</style>\n",
       "<table border=\"1\" class=\"dataframe\">\n",
       "  <thead>\n",
       "    <tr style=\"text-align: right;\">\n",
       "      <th></th>\n",
       "      <th>Open</th>\n",
       "      <th>High</th>\n",
       "      <th>Low</th>\n",
       "      <th>Close</th>\n",
       "      <th>Volume</th>\n",
       "      <th>Tomorrow</th>\n",
       "      <th>Target</th>\n",
       "    </tr>\n",
       "    <tr>\n",
       "      <th>Date</th>\n",
       "      <th></th>\n",
       "      <th></th>\n",
       "      <th></th>\n",
       "      <th></th>\n",
       "      <th></th>\n",
       "      <th></th>\n",
       "      <th></th>\n",
       "    </tr>\n",
       "  </thead>\n",
       "  <tbody>\n",
       "    <tr>\n",
       "      <th>1927-12-30 00:00:00-05:00</th>\n",
       "      <td>17.660000</td>\n",
       "      <td>17.660000</td>\n",
       "      <td>17.660000</td>\n",
       "      <td>17.660000</td>\n",
       "      <td>0</td>\n",
       "      <td>17.760000</td>\n",
       "      <td>1</td>\n",
       "    </tr>\n",
       "    <tr>\n",
       "      <th>1928-01-03 00:00:00-05:00</th>\n",
       "      <td>17.760000</td>\n",
       "      <td>17.760000</td>\n",
       "      <td>17.760000</td>\n",
       "      <td>17.760000</td>\n",
       "      <td>0</td>\n",
       "      <td>17.719999</td>\n",
       "      <td>0</td>\n",
       "    </tr>\n",
       "    <tr>\n",
       "      <th>1928-01-04 00:00:00-05:00</th>\n",
       "      <td>17.719999</td>\n",
       "      <td>17.719999</td>\n",
       "      <td>17.719999</td>\n",
       "      <td>17.719999</td>\n",
       "      <td>0</td>\n",
       "      <td>17.549999</td>\n",
       "      <td>0</td>\n",
       "    </tr>\n",
       "    <tr>\n",
       "      <th>1928-01-05 00:00:00-05:00</th>\n",
       "      <td>17.549999</td>\n",
       "      <td>17.549999</td>\n",
       "      <td>17.549999</td>\n",
       "      <td>17.549999</td>\n",
       "      <td>0</td>\n",
       "      <td>17.660000</td>\n",
       "      <td>1</td>\n",
       "    </tr>\n",
       "    <tr>\n",
       "      <th>1928-01-06 00:00:00-05:00</th>\n",
       "      <td>17.660000</td>\n",
       "      <td>17.660000</td>\n",
       "      <td>17.660000</td>\n",
       "      <td>17.660000</td>\n",
       "      <td>0</td>\n",
       "      <td>17.500000</td>\n",
       "      <td>0</td>\n",
       "    </tr>\n",
       "    <tr>\n",
       "      <th>...</th>\n",
       "      <td>...</td>\n",
       "      <td>...</td>\n",
       "      <td>...</td>\n",
       "      <td>...</td>\n",
       "      <td>...</td>\n",
       "      <td>...</td>\n",
       "      <td>...</td>\n",
       "    </tr>\n",
       "    <tr>\n",
       "      <th>2023-11-01 00:00:00-04:00</th>\n",
       "      <td>4201.270020</td>\n",
       "      <td>4245.640137</td>\n",
       "      <td>4197.740234</td>\n",
       "      <td>4237.859863</td>\n",
       "      <td>4224900000</td>\n",
       "      <td>4317.779785</td>\n",
       "      <td>1</td>\n",
       "    </tr>\n",
       "    <tr>\n",
       "      <th>2023-11-02 00:00:00-04:00</th>\n",
       "      <td>4268.259766</td>\n",
       "      <td>4319.720215</td>\n",
       "      <td>4268.259766</td>\n",
       "      <td>4317.779785</td>\n",
       "      <td>4669780000</td>\n",
       "      <td>4358.339844</td>\n",
       "      <td>1</td>\n",
       "    </tr>\n",
       "    <tr>\n",
       "      <th>2023-11-03 00:00:00-04:00</th>\n",
       "      <td>4334.229980</td>\n",
       "      <td>4373.620117</td>\n",
       "      <td>4334.229980</td>\n",
       "      <td>4358.339844</td>\n",
       "      <td>4570960000</td>\n",
       "      <td>4365.979980</td>\n",
       "      <td>1</td>\n",
       "    </tr>\n",
       "    <tr>\n",
       "      <th>2023-11-06 00:00:00-05:00</th>\n",
       "      <td>4364.270020</td>\n",
       "      <td>4372.209961</td>\n",
       "      <td>4347.529785</td>\n",
       "      <td>4365.979980</td>\n",
       "      <td>3656340000</td>\n",
       "      <td>4378.379883</td>\n",
       "      <td>1</td>\n",
       "    </tr>\n",
       "    <tr>\n",
       "      <th>2023-11-07 00:00:00-05:00</th>\n",
       "      <td>4366.209961</td>\n",
       "      <td>4386.259766</td>\n",
       "      <td>4355.410156</td>\n",
       "      <td>4378.379883</td>\n",
       "      <td>3791230000</td>\n",
       "      <td>NaN</td>\n",
       "      <td>0</td>\n",
       "    </tr>\n",
       "  </tbody>\n",
       "</table>\n",
       "<p>24079 rows × 7 columns</p>\n",
       "</div>"
      ],
      "text/plain": [
       "                                  Open         High          Low        Close  \\\n",
       "Date                                                                            \n",
       "1927-12-30 00:00:00-05:00    17.660000    17.660000    17.660000    17.660000   \n",
       "1928-01-03 00:00:00-05:00    17.760000    17.760000    17.760000    17.760000   \n",
       "1928-01-04 00:00:00-05:00    17.719999    17.719999    17.719999    17.719999   \n",
       "1928-01-05 00:00:00-05:00    17.549999    17.549999    17.549999    17.549999   \n",
       "1928-01-06 00:00:00-05:00    17.660000    17.660000    17.660000    17.660000   \n",
       "...                                ...          ...          ...          ...   \n",
       "2023-11-01 00:00:00-04:00  4201.270020  4245.640137  4197.740234  4237.859863   \n",
       "2023-11-02 00:00:00-04:00  4268.259766  4319.720215  4268.259766  4317.779785   \n",
       "2023-11-03 00:00:00-04:00  4334.229980  4373.620117  4334.229980  4358.339844   \n",
       "2023-11-06 00:00:00-05:00  4364.270020  4372.209961  4347.529785  4365.979980   \n",
       "2023-11-07 00:00:00-05:00  4366.209961  4386.259766  4355.410156  4378.379883   \n",
       "\n",
       "                               Volume     Tomorrow  Target  \n",
       "Date                                                        \n",
       "1927-12-30 00:00:00-05:00           0    17.760000       1  \n",
       "1928-01-03 00:00:00-05:00           0    17.719999       0  \n",
       "1928-01-04 00:00:00-05:00           0    17.549999       0  \n",
       "1928-01-05 00:00:00-05:00           0    17.660000       1  \n",
       "1928-01-06 00:00:00-05:00           0    17.500000       0  \n",
       "...                               ...          ...     ...  \n",
       "2023-11-01 00:00:00-04:00  4224900000  4317.779785       1  \n",
       "2023-11-02 00:00:00-04:00  4669780000  4358.339844       1  \n",
       "2023-11-03 00:00:00-04:00  4570960000  4365.979980       1  \n",
       "2023-11-06 00:00:00-05:00  3656340000  4378.379883       1  \n",
       "2023-11-07 00:00:00-05:00  3791230000          NaN       0  \n",
       "\n",
       "[24079 rows x 7 columns]"
      ]
     },
     "execution_count": 9,
     "metadata": {},
     "output_type": "execute_result"
    }
   ],
   "source": [
    "sp500[\"Target\"] = (sp500[\"Tomorrow\"] > sp500[\"Close\"]).astype(int)\n",
    "sp500"
   ]
  },
  {
   "cell_type": "code",
   "execution_count": 10,
   "metadata": {},
   "outputs": [
    {
     "data": {
      "text/html": [
       "<div>\n",
       "<style scoped>\n",
       "    .dataframe tbody tr th:only-of-type {\n",
       "        vertical-align: middle;\n",
       "    }\n",
       "\n",
       "    .dataframe tbody tr th {\n",
       "        vertical-align: top;\n",
       "    }\n",
       "\n",
       "    .dataframe thead th {\n",
       "        text-align: right;\n",
       "    }\n",
       "</style>\n",
       "<table border=\"1\" class=\"dataframe\">\n",
       "  <thead>\n",
       "    <tr style=\"text-align: right;\">\n",
       "      <th></th>\n",
       "      <th>Open</th>\n",
       "      <th>High</th>\n",
       "      <th>Low</th>\n",
       "      <th>Close</th>\n",
       "      <th>Volume</th>\n",
       "      <th>Tomorrow</th>\n",
       "      <th>Target</th>\n",
       "    </tr>\n",
       "    <tr>\n",
       "      <th>Date</th>\n",
       "      <th></th>\n",
       "      <th></th>\n",
       "      <th></th>\n",
       "      <th></th>\n",
       "      <th></th>\n",
       "      <th></th>\n",
       "      <th></th>\n",
       "    </tr>\n",
       "  </thead>\n",
       "  <tbody>\n",
       "    <tr>\n",
       "      <th>1990-01-02 00:00:00-05:00</th>\n",
       "      <td>353.399994</td>\n",
       "      <td>359.690002</td>\n",
       "      <td>351.980011</td>\n",
       "      <td>359.690002</td>\n",
       "      <td>162070000</td>\n",
       "      <td>358.760010</td>\n",
       "      <td>0</td>\n",
       "    </tr>\n",
       "    <tr>\n",
       "      <th>1990-01-03 00:00:00-05:00</th>\n",
       "      <td>359.690002</td>\n",
       "      <td>360.589996</td>\n",
       "      <td>357.890015</td>\n",
       "      <td>358.760010</td>\n",
       "      <td>192330000</td>\n",
       "      <td>355.670013</td>\n",
       "      <td>0</td>\n",
       "    </tr>\n",
       "    <tr>\n",
       "      <th>1990-01-04 00:00:00-05:00</th>\n",
       "      <td>358.760010</td>\n",
       "      <td>358.760010</td>\n",
       "      <td>352.890015</td>\n",
       "      <td>355.670013</td>\n",
       "      <td>177000000</td>\n",
       "      <td>352.200012</td>\n",
       "      <td>0</td>\n",
       "    </tr>\n",
       "    <tr>\n",
       "      <th>1990-01-05 00:00:00-05:00</th>\n",
       "      <td>355.670013</td>\n",
       "      <td>355.670013</td>\n",
       "      <td>351.350006</td>\n",
       "      <td>352.200012</td>\n",
       "      <td>158530000</td>\n",
       "      <td>353.790009</td>\n",
       "      <td>1</td>\n",
       "    </tr>\n",
       "    <tr>\n",
       "      <th>1990-01-08 00:00:00-05:00</th>\n",
       "      <td>352.200012</td>\n",
       "      <td>354.239990</td>\n",
       "      <td>350.540009</td>\n",
       "      <td>353.790009</td>\n",
       "      <td>140110000</td>\n",
       "      <td>349.619995</td>\n",
       "      <td>0</td>\n",
       "    </tr>\n",
       "    <tr>\n",
       "      <th>...</th>\n",
       "      <td>...</td>\n",
       "      <td>...</td>\n",
       "      <td>...</td>\n",
       "      <td>...</td>\n",
       "      <td>...</td>\n",
       "      <td>...</td>\n",
       "      <td>...</td>\n",
       "    </tr>\n",
       "    <tr>\n",
       "      <th>2023-11-01 00:00:00-04:00</th>\n",
       "      <td>4201.270020</td>\n",
       "      <td>4245.640137</td>\n",
       "      <td>4197.740234</td>\n",
       "      <td>4237.859863</td>\n",
       "      <td>4224900000</td>\n",
       "      <td>4317.779785</td>\n",
       "      <td>1</td>\n",
       "    </tr>\n",
       "    <tr>\n",
       "      <th>2023-11-02 00:00:00-04:00</th>\n",
       "      <td>4268.259766</td>\n",
       "      <td>4319.720215</td>\n",
       "      <td>4268.259766</td>\n",
       "      <td>4317.779785</td>\n",
       "      <td>4669780000</td>\n",
       "      <td>4358.339844</td>\n",
       "      <td>1</td>\n",
       "    </tr>\n",
       "    <tr>\n",
       "      <th>2023-11-03 00:00:00-04:00</th>\n",
       "      <td>4334.229980</td>\n",
       "      <td>4373.620117</td>\n",
       "      <td>4334.229980</td>\n",
       "      <td>4358.339844</td>\n",
       "      <td>4570960000</td>\n",
       "      <td>4365.979980</td>\n",
       "      <td>1</td>\n",
       "    </tr>\n",
       "    <tr>\n",
       "      <th>2023-11-06 00:00:00-05:00</th>\n",
       "      <td>4364.270020</td>\n",
       "      <td>4372.209961</td>\n",
       "      <td>4347.529785</td>\n",
       "      <td>4365.979980</td>\n",
       "      <td>3656340000</td>\n",
       "      <td>4378.379883</td>\n",
       "      <td>1</td>\n",
       "    </tr>\n",
       "    <tr>\n",
       "      <th>2023-11-07 00:00:00-05:00</th>\n",
       "      <td>4366.209961</td>\n",
       "      <td>4386.259766</td>\n",
       "      <td>4355.410156</td>\n",
       "      <td>4378.379883</td>\n",
       "      <td>3791230000</td>\n",
       "      <td>NaN</td>\n",
       "      <td>0</td>\n",
       "    </tr>\n",
       "  </tbody>\n",
       "</table>\n",
       "<p>8529 rows × 7 columns</p>\n",
       "</div>"
      ],
      "text/plain": [
       "                                  Open         High          Low        Close  \\\n",
       "Date                                                                            \n",
       "1990-01-02 00:00:00-05:00   353.399994   359.690002   351.980011   359.690002   \n",
       "1990-01-03 00:00:00-05:00   359.690002   360.589996   357.890015   358.760010   \n",
       "1990-01-04 00:00:00-05:00   358.760010   358.760010   352.890015   355.670013   \n",
       "1990-01-05 00:00:00-05:00   355.670013   355.670013   351.350006   352.200012   \n",
       "1990-01-08 00:00:00-05:00   352.200012   354.239990   350.540009   353.790009   \n",
       "...                                ...          ...          ...          ...   \n",
       "2023-11-01 00:00:00-04:00  4201.270020  4245.640137  4197.740234  4237.859863   \n",
       "2023-11-02 00:00:00-04:00  4268.259766  4319.720215  4268.259766  4317.779785   \n",
       "2023-11-03 00:00:00-04:00  4334.229980  4373.620117  4334.229980  4358.339844   \n",
       "2023-11-06 00:00:00-05:00  4364.270020  4372.209961  4347.529785  4365.979980   \n",
       "2023-11-07 00:00:00-05:00  4366.209961  4386.259766  4355.410156  4378.379883   \n",
       "\n",
       "                               Volume     Tomorrow  Target  \n",
       "Date                                                        \n",
       "1990-01-02 00:00:00-05:00   162070000   358.760010       0  \n",
       "1990-01-03 00:00:00-05:00   192330000   355.670013       0  \n",
       "1990-01-04 00:00:00-05:00   177000000   352.200012       0  \n",
       "1990-01-05 00:00:00-05:00   158530000   353.790009       1  \n",
       "1990-01-08 00:00:00-05:00   140110000   349.619995       0  \n",
       "...                               ...          ...     ...  \n",
       "2023-11-01 00:00:00-04:00  4224900000  4317.779785       1  \n",
       "2023-11-02 00:00:00-04:00  4669780000  4358.339844       1  \n",
       "2023-11-03 00:00:00-04:00  4570960000  4365.979980       1  \n",
       "2023-11-06 00:00:00-05:00  3656340000  4378.379883       1  \n",
       "2023-11-07 00:00:00-05:00  3791230000          NaN       0  \n",
       "\n",
       "[8529 rows x 7 columns]"
      ]
     },
     "execution_count": 10,
     "metadata": {},
     "output_type": "execute_result"
    }
   ],
   "source": [
    "# Market might shift its fundamental\n",
    "# Get price after 1990-01-01\n",
    "sp500 = sp500.loc[\"1990-01-01\":].copy()\n",
    "sp500"
   ]
  },
  {
   "cell_type": "markdown",
   "metadata": {},
   "source": [
    "<h1>Training an Inital ML Model"
   ]
  },
  {
   "cell_type": "code",
   "execution_count": 27,
   "metadata": {},
   "outputs": [],
   "source": [
    "# RandomForestClassifier\n",
    "# averaging the decision tree\n",
    "# hard to overfit\n",
    "# run fast\n",
    "# can pick up none lieaner tendence\n",
    "from sklearn.ensemble import RandomForestClassifier"
   ]
  },
  {
   "cell_type": "code",
   "execution_count": 28,
   "metadata": {},
   "outputs": [
    {
     "data": {
      "text/html": [
       "<style>#sk-container-id-2 {color: black;}#sk-container-id-2 pre{padding: 0;}#sk-container-id-2 div.sk-toggleable {background-color: white;}#sk-container-id-2 label.sk-toggleable__label {cursor: pointer;display: block;width: 100%;margin-bottom: 0;padding: 0.3em;box-sizing: border-box;text-align: center;}#sk-container-id-2 label.sk-toggleable__label-arrow:before {content: \"▸\";float: left;margin-right: 0.25em;color: #696969;}#sk-container-id-2 label.sk-toggleable__label-arrow:hover:before {color: black;}#sk-container-id-2 div.sk-estimator:hover label.sk-toggleable__label-arrow:before {color: black;}#sk-container-id-2 div.sk-toggleable__content {max-height: 0;max-width: 0;overflow: hidden;text-align: left;background-color: #f0f8ff;}#sk-container-id-2 div.sk-toggleable__content pre {margin: 0.2em;color: black;border-radius: 0.25em;background-color: #f0f8ff;}#sk-container-id-2 input.sk-toggleable__control:checked~div.sk-toggleable__content {max-height: 200px;max-width: 100%;overflow: auto;}#sk-container-id-2 input.sk-toggleable__control:checked~label.sk-toggleable__label-arrow:before {content: \"▾\";}#sk-container-id-2 div.sk-estimator input.sk-toggleable__control:checked~label.sk-toggleable__label {background-color: #d4ebff;}#sk-container-id-2 div.sk-label input.sk-toggleable__control:checked~label.sk-toggleable__label {background-color: #d4ebff;}#sk-container-id-2 input.sk-hidden--visually {border: 0;clip: rect(1px 1px 1px 1px);clip: rect(1px, 1px, 1px, 1px);height: 1px;margin: -1px;overflow: hidden;padding: 0;position: absolute;width: 1px;}#sk-container-id-2 div.sk-estimator {font-family: monospace;background-color: #f0f8ff;border: 1px dotted black;border-radius: 0.25em;box-sizing: border-box;margin-bottom: 0.5em;}#sk-container-id-2 div.sk-estimator:hover {background-color: #d4ebff;}#sk-container-id-2 div.sk-parallel-item::after {content: \"\";width: 100%;border-bottom: 1px solid gray;flex-grow: 1;}#sk-container-id-2 div.sk-label:hover label.sk-toggleable__label {background-color: #d4ebff;}#sk-container-id-2 div.sk-serial::before {content: \"\";position: absolute;border-left: 1px solid gray;box-sizing: border-box;top: 0;bottom: 0;left: 50%;z-index: 0;}#sk-container-id-2 div.sk-serial {display: flex;flex-direction: column;align-items: center;background-color: white;padding-right: 0.2em;padding-left: 0.2em;position: relative;}#sk-container-id-2 div.sk-item {position: relative;z-index: 1;}#sk-container-id-2 div.sk-parallel {display: flex;align-items: stretch;justify-content: center;background-color: white;position: relative;}#sk-container-id-2 div.sk-item::before, #sk-container-id-2 div.sk-parallel-item::before {content: \"\";position: absolute;border-left: 1px solid gray;box-sizing: border-box;top: 0;bottom: 0;left: 50%;z-index: -1;}#sk-container-id-2 div.sk-parallel-item {display: flex;flex-direction: column;z-index: 1;position: relative;background-color: white;}#sk-container-id-2 div.sk-parallel-item:first-child::after {align-self: flex-end;width: 50%;}#sk-container-id-2 div.sk-parallel-item:last-child::after {align-self: flex-start;width: 50%;}#sk-container-id-2 div.sk-parallel-item:only-child::after {width: 0;}#sk-container-id-2 div.sk-dashed-wrapped {border: 1px dashed gray;margin: 0 0.4em 0.5em 0.4em;box-sizing: border-box;padding-bottom: 0.4em;background-color: white;}#sk-container-id-2 div.sk-label label {font-family: monospace;font-weight: bold;display: inline-block;line-height: 1.2em;}#sk-container-id-2 div.sk-label-container {text-align: center;}#sk-container-id-2 div.sk-container {/* jupyter's `normalize.less` sets `[hidden] { display: none; }` but bootstrap.min.css set `[hidden] { display: none !important; }` so we also need the `!important` here to be able to override the default hidden behavior on the sphinx rendered scikit-learn.org. See: https://github.com/scikit-learn/scikit-learn/issues/21755 */display: inline-block !important;position: relative;}#sk-container-id-2 div.sk-text-repr-fallback {display: none;}</style><div id=\"sk-container-id-2\" class=\"sk-top-container\"><div class=\"sk-text-repr-fallback\"><pre>RandomForestClassifier(min_samples_split=100, random_state=1)</pre><b>In a Jupyter environment, please rerun this cell to show the HTML representation or trust the notebook. <br />On GitHub, the HTML representation is unable to render, please try loading this page with nbviewer.org.</b></div><div class=\"sk-container\" hidden><div class=\"sk-item\"><div class=\"sk-estimator sk-toggleable\"><input class=\"sk-toggleable__control sk-hidden--visually\" id=\"sk-estimator-id-2\" type=\"checkbox\" checked><label for=\"sk-estimator-id-2\" class=\"sk-toggleable__label sk-toggleable__label-arrow\">RandomForestClassifier</label><div class=\"sk-toggleable__content\"><pre>RandomForestClassifier(min_samples_split=100, random_state=1)</pre></div></div></div></div></div>"
      ],
      "text/plain": [
       "RandomForestClassifier(min_samples_split=100, random_state=1)"
      ]
     },
     "execution_count": 28,
     "metadata": {},
     "output_type": "execute_result"
    }
   ],
   "source": [
    "# init model\n",
    "model = RandomForestClassifier(n_estimators=100, min_samples_split=100, random_state=1)\n",
    "\n",
    "train = sp500.iloc[:-100]\n",
    "test = sp500.iloc[-100:]\n",
    "\n",
    "predictors = [\"Close\", \"Volume\", \"Open\", \"High\", \"Low\"]\n",
    "\n",
    "model.fit(train[predictors], train[\"Target\"])"
   ]
  },
  {
   "cell_type": "code",
   "execution_count": 29,
   "metadata": {},
   "outputs": [
    {
     "name": "stdout",
     "output_type": "stream",
     "text": [
      "Date\n",
      "2023-06-15 00:00:00-04:00    1\n",
      "2023-06-16 00:00:00-04:00    0\n",
      "2023-06-20 00:00:00-04:00    1\n",
      "2023-06-21 00:00:00-04:00    1\n",
      "2023-06-22 00:00:00-04:00    1\n",
      "                            ..\n",
      "2023-10-31 00:00:00-04:00    0\n",
      "2023-11-01 00:00:00-04:00    0\n",
      "2023-11-02 00:00:00-04:00    1\n",
      "2023-11-03 00:00:00-04:00    1\n",
      "2023-11-06 00:00:00-05:00    1\n",
      "Length: 100, dtype: int64\n",
      "precision_score:  0.4852941176470588\n"
     ]
    }
   ],
   "source": [
    "from sklearn.metrics import precision_score\n",
    "\n",
    "preds = model.predict(test[predictors])\n",
    "preds = pd.Series(preds, index=test.index)\n",
    "\n",
    "print(preds)\n",
    "precision = precision_score(test[\"Target\"], preds)\n",
    "\n",
    "print(\"precision_score: \", precision)"
   ]
  },
  {
   "cell_type": "code",
   "execution_count": 30,
   "metadata": {},
   "outputs": [
    {
     "data": {
      "text/plain": [
       "<Axes: xlabel='Date'>"
      ]
     },
     "execution_count": 30,
     "metadata": {},
     "output_type": "execute_result"
    },
    {
     "data": {
      "image/png": "[encoded data removed]",
      "text/plain": [
       "<Figure size 640x480 with 1 Axes>"
      ]
     },
     "metadata": {},
     "output_type": "display_data"
    }
   ],
   "source": [
    "combined = pd.concat([test[\"Target\"], preds], axis=1)\n",
    "combined.plot()"
   ]
  },
  {
   "cell_type": "markdown",
   "metadata": {},
   "source": [
    "<h1>Building a backtesting system</h1>"
   ]
  },
  {
   "cell_type": "code",
   "execution_count": 31,
   "metadata": {},
   "outputs": [],
   "source": [
    "def predict(train, test, predictors, model):\n",
    "    model.fit(train[predictors], train[\"Target\"])\n",
    "    preds = model.predict(test[predictors])\n",
    "    preds = pd.Series(preds, index=test.index, name=\"Predictions\")\n",
    "    combined = pd.concat([test[\"Target\"], preds], axis=1)\n",
    "    return combined"
   ]
  },
  {
   "cell_type": "code",
   "execution_count": 36,
   "metadata": {},
   "outputs": [],
   "source": [
    "def backtest(data, model, predictors, start=2500, step=250):\n",
    "    all_predictions = []\n",
    "\n",
    "    for i in range(start, data.shape[0], step):\n",
    "        train = data.iloc[0:i].copy()\n",
    "        test = data.iloc[i:(i+step)].copy()\n",
    "        precisions = predict(train, test, predictors, model)\n",
    "        all_predictions.append(precisions)\n",
    "    return pd.concat(all_predictions)\n"
   ]
  },
  {
   "cell_type": "code",
   "execution_count": 37,
   "metadata": {},
   "outputs": [],
   "source": [
    "predictions = backtest(sp500, model, predictors)"
   ]
  },
  {
   "cell_type": "code",
   "execution_count": 38,
   "metadata": {},
   "outputs": [
    {
     "data": {
      "text/plain": [
       "Predictions\n",
       "0    2794\n",
       "1    2234\n",
       "Name: count, dtype: int64"
      ]
     },
     "execution_count": 38,
     "metadata": {},
     "output_type": "execute_result"
    }
   ],
   "source": [
    "predictions[\"Predictions\"].value_counts()"
   ]
  },
  {
   "cell_type": "code",
   "execution_count": 39,
   "metadata": {},
   "outputs": [
    {
     "data": {
      "text/plain": [
       "0.5384959713518352"
      ]
     },
     "execution_count": 39,
     "metadata": {},
     "output_type": "execute_result"
    }
   ],
   "source": [
    "precision_score(predictions[\"Target\"], predictions[\"Predictions\"])"
   ]
  },
  {
   "cell_type": "code",
   "execution_count": 40,
   "metadata": {},
   "outputs": [
    {
     "data": {
      "text/plain": [
       "Target\n",
       "1    0.543357\n",
       "0    0.456643\n",
       "Name: count, dtype: float64"
      ]
     },
     "execution_count": 40,
     "metadata": {},
     "output_type": "execute_result"
    }
   ],
   "source": [
    "predictions[\"Target\"].value_counts() / predictions.shape[0]"
   ]
  },
  {
   "cell_type": "markdown",
   "metadata": {},
   "source": [
    "<h1>Adding additional predictors to the model</h1>"
   ]
  },
  {
   "cell_type": "code",
   "execution_count": 41,
   "metadata": {},
   "outputs": [
    {
     "name": "stderr",
     "output_type": "stream",
     "text": [
      "/tmp/ipykernel_30310/984198452.py:8: SettingWithCopyWarning: \n",
      "A value is trying to be set on a copy of a slice from a DataFrame.\n",
      "Try using .loc[row_indexer,col_indexer] = value instead\n",
      "\n",
      "See the caveats in the documentation: https://pandas.pydata.org/pandas-docs/stable/user_guide/indexing.html#returning-a-view-versus-a-copy\n",
      "  sp500[ratio_column] = sp500[\"Close\"] / rolling_averages[\"Close\"]\n",
      "/tmp/ipykernel_30310/984198452.py:11: SettingWithCopyWarning: \n",
      "A value is trying to be set on a copy of a slice from a DataFrame.\n",
      "Try using .loc[row_indexer,col_indexer] = value instead\n",
      "\n",
      "See the caveats in the documentation: https://pandas.pydata.org/pandas-docs/stable/user_guide/indexing.html#returning-a-view-versus-a-copy\n",
      "  sp500[trend_column] = sp500.shift(1).rolling(horizon).sum()[\"Target\"]\n"
     ]
    }
   ],
   "source": [
    "horizons = [2,5,60,250,1000]\n",
    "\n",
    "new_predictors = []\n",
    "\n",
    "for horizon in horizons:\n",
    "    rolling_averages = sp500.rolling(horizon).mean()\n",
    "    ratio_column = f\"Close_Ratio_{horizon}\"\n",
    "    sp500[ratio_column] = sp500[\"Close\"] / rolling_averages[\"Close\"]\n",
    "\n",
    "    trend_column = f\"Trend_{horizon}\"\n",
    "    sp500[trend_column] = sp500.shift(1).rolling(horizon).sum()[\"Target\"]\n",
    "\n",
    "    new_predictors += [ratio_column, trend_column]\n",
    "\n"
   ]
  },
  {
   "cell_type": "code",
   "execution_count": 42,
   "metadata": {},
   "outputs": [
    {
     "data": {
      "text/plain": [
       "['Close_Ratio_2',\n",
       " 'Trend_2',\n",
       " 'Close_Ratio_5',\n",
       " 'Trend_5',\n",
       " 'Close_Ratio_60',\n",
       " 'Trend_60',\n",
       " 'Close_Ratio_250',\n",
       " 'Trend_250',\n",
       " 'Close_Ratio_1000',\n",
       " 'Trend_1000']"
      ]
     },
     "execution_count": 42,
     "metadata": {},
     "output_type": "execute_result"
    }
   ],
   "source": [
    "new_predictors"
   ]
  },
  {
   "cell_type": "code",
   "execution_count": 43,
   "metadata": {},
   "outputs": [
    {
     "data": {
      "text/html": [
       "<div>\n",
       "<style scoped>\n",
       "    .dataframe tbody tr th:only-of-type {\n",
       "        vertical-align: middle;\n",
       "    }\n",
       "\n",
       "    .dataframe tbody tr th {\n",
       "        vertical-align: top;\n",
       "    }\n",
       "\n",
       "    .dataframe thead th {\n",
       "        text-align: right;\n",
       "    }\n",
       "</style>\n",
       "<table border=\"1\" class=\"dataframe\">\n",
       "  <thead>\n",
       "    <tr style=\"text-align: right;\">\n",
       "      <th></th>\n",
       "      <th>Open</th>\n",
       "      <th>High</th>\n",
       "      <th>Low</th>\n",
       "      <th>Close</th>\n",
       "      <th>Volume</th>\n",
       "      <th>Tomorrow</th>\n",
       "      <th>Target</th>\n",
       "      <th>Close_Ratio_2</th>\n",
       "      <th>Trend_2</th>\n",
       "      <th>Close_Ratio_5</th>\n",
       "      <th>Trend_5</th>\n",
       "      <th>Close_Ratio_60</th>\n",
       "      <th>Trend_60</th>\n",
       "      <th>Close_Ratio_250</th>\n",
       "      <th>Trend_250</th>\n",
       "      <th>Close_Ratio_1000</th>\n",
       "      <th>Trend_1000</th>\n",
       "    </tr>\n",
       "    <tr>\n",
       "      <th>Date</th>\n",
       "      <th></th>\n",
       "      <th></th>\n",
       "      <th></th>\n",
       "      <th></th>\n",
       "      <th></th>\n",
       "      <th></th>\n",
       "      <th></th>\n",
       "      <th></th>\n",
       "      <th></th>\n",
       "      <th></th>\n",
       "      <th></th>\n",
       "      <th></th>\n",
       "      <th></th>\n",
       "      <th></th>\n",
       "      <th></th>\n",
       "      <th></th>\n",
       "      <th></th>\n",
       "    </tr>\n",
       "  </thead>\n",
       "  <tbody>\n",
       "    <tr>\n",
       "      <th>1997-11-26 00:00:00-05:00</th>\n",
       "      <td>950.820007</td>\n",
       "      <td>956.469971</td>\n",
       "      <td>950.820007</td>\n",
       "      <td>951.640015</td>\n",
       "      <td>487750000</td>\n",
       "      <td>955.400024</td>\n",
       "      <td>1</td>\n",
       "      <td>1.000431</td>\n",
       "      <td>2.0</td>\n",
       "      <td>0.997275</td>\n",
       "      <td>4.0</td>\n",
       "      <td>1.009111</td>\n",
       "      <td>33.0</td>\n",
       "      <td>1.113282</td>\n",
       "      <td>138.0</td>\n",
       "      <td>1.517046</td>\n",
       "      <td>563.0</td>\n",
       "    </tr>\n",
       "    <tr>\n",
       "      <th>1997-11-28 00:00:00-05:00</th>\n",
       "      <td>951.640015</td>\n",
       "      <td>959.130005</td>\n",
       "      <td>951.640015</td>\n",
       "      <td>955.400024</td>\n",
       "      <td>189070000</td>\n",
       "      <td>974.770020</td>\n",
       "      <td>1</td>\n",
       "      <td>1.001972</td>\n",
       "      <td>2.0</td>\n",
       "      <td>1.001967</td>\n",
       "      <td>4.0</td>\n",
       "      <td>1.012659</td>\n",
       "      <td>33.0</td>\n",
       "      <td>1.116599</td>\n",
       "      <td>139.0</td>\n",
       "      <td>1.521842</td>\n",
       "      <td>564.0</td>\n",
       "    </tr>\n",
       "    <tr>\n",
       "      <th>1997-12-01 00:00:00-05:00</th>\n",
       "      <td>955.400024</td>\n",
       "      <td>974.770020</td>\n",
       "      <td>955.400024</td>\n",
       "      <td>974.770020</td>\n",
       "      <td>590300000</td>\n",
       "      <td>971.679993</td>\n",
       "      <td>0</td>\n",
       "      <td>1.010035</td>\n",
       "      <td>2.0</td>\n",
       "      <td>1.019783</td>\n",
       "      <td>4.0</td>\n",
       "      <td>1.032356</td>\n",
       "      <td>34.0</td>\n",
       "      <td>1.138015</td>\n",
       "      <td>140.0</td>\n",
       "      <td>1.551433</td>\n",
       "      <td>564.0</td>\n",
       "    </tr>\n",
       "    <tr>\n",
       "      <th>1997-12-02 00:00:00-05:00</th>\n",
       "      <td>974.780029</td>\n",
       "      <td>976.200012</td>\n",
       "      <td>969.830017</td>\n",
       "      <td>971.679993</td>\n",
       "      <td>576120000</td>\n",
       "      <td>976.770020</td>\n",
       "      <td>1</td>\n",
       "      <td>0.998412</td>\n",
       "      <td>1.0</td>\n",
       "      <td>1.011259</td>\n",
       "      <td>4.0</td>\n",
       "      <td>1.028349</td>\n",
       "      <td>33.0</td>\n",
       "      <td>1.133204</td>\n",
       "      <td>140.0</td>\n",
       "      <td>1.545272</td>\n",
       "      <td>563.0</td>\n",
       "    </tr>\n",
       "    <tr>\n",
       "      <th>1997-12-03 00:00:00-05:00</th>\n",
       "      <td>971.679993</td>\n",
       "      <td>980.809998</td>\n",
       "      <td>966.159973</td>\n",
       "      <td>976.770020</td>\n",
       "      <td>624610000</td>\n",
       "      <td>973.099976</td>\n",
       "      <td>0</td>\n",
       "      <td>1.002612</td>\n",
       "      <td>1.0</td>\n",
       "      <td>1.011095</td>\n",
       "      <td>4.0</td>\n",
       "      <td>1.032949</td>\n",
       "      <td>33.0</td>\n",
       "      <td>1.137882</td>\n",
       "      <td>141.0</td>\n",
       "      <td>1.552105</td>\n",
       "      <td>564.0</td>\n",
       "    </tr>\n",
       "    <tr>\n",
       "      <th>...</th>\n",
       "      <td>...</td>\n",
       "      <td>...</td>\n",
       "      <td>...</td>\n",
       "      <td>...</td>\n",
       "      <td>...</td>\n",
       "      <td>...</td>\n",
       "      <td>...</td>\n",
       "      <td>...</td>\n",
       "      <td>...</td>\n",
       "      <td>...</td>\n",
       "      <td>...</td>\n",
       "      <td>...</td>\n",
       "      <td>...</td>\n",
       "      <td>...</td>\n",
       "      <td>...</td>\n",
       "      <td>...</td>\n",
       "      <td>...</td>\n",
       "    </tr>\n",
       "    <tr>\n",
       "      <th>2023-10-31 00:00:00-04:00</th>\n",
       "      <td>4171.330078</td>\n",
       "      <td>4195.549805</td>\n",
       "      <td>4153.120117</td>\n",
       "      <td>4193.799805</td>\n",
       "      <td>4249470000</td>\n",
       "      <td>4237.859863</td>\n",
       "      <td>1</td>\n",
       "      <td>1.003227</td>\n",
       "      <td>2.0</td>\n",
       "      <td>1.008029</td>\n",
       "      <td>2.0</td>\n",
       "      <td>0.960267</td>\n",
       "      <td>27.0</td>\n",
       "      <td>1.004127</td>\n",
       "      <td>124.0</td>\n",
       "      <td>1.071585</td>\n",
       "      <td>526.0</td>\n",
       "    </tr>\n",
       "    <tr>\n",
       "      <th>2023-11-01 00:00:00-04:00</th>\n",
       "      <td>4201.270020</td>\n",
       "      <td>4245.640137</td>\n",
       "      <td>4197.740234</td>\n",
       "      <td>4237.859863</td>\n",
       "      <td>4224900000</td>\n",
       "      <td>4317.779785</td>\n",
       "      <td>1</td>\n",
       "      <td>1.005226</td>\n",
       "      <td>2.0</td>\n",
       "      <td>1.016123</td>\n",
       "      <td>3.0</td>\n",
       "      <td>0.971325</td>\n",
       "      <td>28.0</td>\n",
       "      <td>1.014212</td>\n",
       "      <td>125.0</td>\n",
       "      <td>1.082524</td>\n",
       "      <td>527.0</td>\n",
       "    </tr>\n",
       "    <tr>\n",
       "      <th>2023-11-02 00:00:00-04:00</th>\n",
       "      <td>4268.259766</td>\n",
       "      <td>4319.720215</td>\n",
       "      <td>4268.259766</td>\n",
       "      <td>4317.779785</td>\n",
       "      <td>4669780000</td>\n",
       "      <td>4358.339844</td>\n",
       "      <td>1</td>\n",
       "      <td>1.009341</td>\n",
       "      <td>2.0</td>\n",
       "      <td>1.026399</td>\n",
       "      <td>4.0</td>\n",
       "      <td>0.990210</td>\n",
       "      <td>29.0</td>\n",
       "      <td>1.032747</td>\n",
       "      <td>126.0</td>\n",
       "      <td>1.102594</td>\n",
       "      <td>527.0</td>\n",
       "    </tr>\n",
       "    <tr>\n",
       "      <th>2023-11-03 00:00:00-04:00</th>\n",
       "      <td>4334.229980</td>\n",
       "      <td>4373.620117</td>\n",
       "      <td>4334.229980</td>\n",
       "      <td>4358.339844</td>\n",
       "      <td>4570960000</td>\n",
       "      <td>4365.979980</td>\n",
       "      <td>1</td>\n",
       "      <td>1.004675</td>\n",
       "      <td>2.0</td>\n",
       "      <td>1.024306</td>\n",
       "      <td>5.0</td>\n",
       "      <td>0.999934</td>\n",
       "      <td>29.0</td>\n",
       "      <td>1.041862</td>\n",
       "      <td>126.0</td>\n",
       "      <td>1.112592</td>\n",
       "      <td>527.0</td>\n",
       "    </tr>\n",
       "    <tr>\n",
       "      <th>2023-11-06 00:00:00-05:00</th>\n",
       "      <td>4364.270020</td>\n",
       "      <td>4372.209961</td>\n",
       "      <td>4347.529785</td>\n",
       "      <td>4365.979980</td>\n",
       "      <td>3656340000</td>\n",
       "      <td>4378.379883</td>\n",
       "      <td>1</td>\n",
       "      <td>1.000876</td>\n",
       "      <td>2.0</td>\n",
       "      <td>1.016585</td>\n",
       "      <td>5.0</td>\n",
       "      <td>1.002063</td>\n",
       "      <td>30.0</td>\n",
       "      <td>1.043131</td>\n",
       "      <td>126.0</td>\n",
       "      <td>1.114182</td>\n",
       "      <td>527.0</td>\n",
       "    </tr>\n",
       "  </tbody>\n",
       "</table>\n",
       "<p>6528 rows × 17 columns</p>\n",
       "</div>"
      ],
      "text/plain": [
       "                                  Open         High          Low        Close  \\\n",
       "Date                                                                            \n",
       "1997-11-26 00:00:00-05:00   950.820007   956.469971   950.820007   951.640015   \n",
       "1997-11-28 00:00:00-05:00   951.640015   959.130005   951.640015   955.400024   \n",
       "1997-12-01 00:00:00-05:00   955.400024   974.770020   955.400024   974.770020   \n",
       "1997-12-02 00:00:00-05:00   974.780029   976.200012   969.830017   971.679993   \n",
       "1997-12-03 00:00:00-05:00   971.679993   980.809998   966.159973   976.770020   \n",
       "...                                ...          ...          ...          ...   \n",
       "2023-10-31 00:00:00-04:00  4171.330078  4195.549805  4153.120117  4193.799805   \n",
       "2023-11-01 00:00:00-04:00  4201.270020  4245.640137  4197.740234  4237.859863   \n",
       "2023-11-02 00:00:00-04:00  4268.259766  4319.720215  4268.259766  4317.779785   \n",
       "2023-11-03 00:00:00-04:00  4334.229980  4373.620117  4334.229980  4358.339844   \n",
       "2023-11-06 00:00:00-05:00  4364.270020  4372.209961  4347.529785  4365.979980   \n",
       "\n",
       "                               Volume     Tomorrow  Target  Close_Ratio_2  \\\n",
       "Date                                                                        \n",
       "1997-11-26 00:00:00-05:00   487750000   955.400024       1       1.000431   \n",
       "1997-11-28 00:00:00-05:00   189070000   974.770020       1       1.001972   \n",
       "1997-12-01 00:00:00-05:00   590300000   971.679993       0       1.010035   \n",
       "1997-12-02 00:00:00-05:00   576120000   976.770020       1       0.998412   \n",
       "1997-12-03 00:00:00-05:00   624610000   973.099976       0       1.002612   \n",
       "...                               ...          ...     ...            ...   \n",
       "2023-10-31 00:00:00-04:00  4249470000  4237.859863       1       1.003227   \n",
       "2023-11-01 00:00:00-04:00  4224900000  4317.779785       1       1.005226   \n",
       "2023-11-02 00:00:00-04:00  4669780000  4358.339844       1       1.009341   \n",
       "2023-11-03 00:00:00-04:00  4570960000  4365.979980       1       1.004675   \n",
       "2023-11-06 00:00:00-05:00  3656340000  4378.379883       1       1.000876   \n",
       "\n",
       "                           Trend_2  Close_Ratio_5  Trend_5  Close_Ratio_60  \\\n",
       "Date                                                                         \n",
       "1997-11-26 00:00:00-05:00      2.0       0.997275      4.0        1.009111   \n",
       "1997-11-28 00:00:00-05:00      2.0       1.001967      4.0        1.012659   \n",
       "1997-12-01 00:00:00-05:00      2.0       1.019783      4.0        1.032356   \n",
       "1997-12-02 00:00:00-05:00      1.0       1.011259      4.0        1.028349   \n",
       "1997-12-03 00:00:00-05:00      1.0       1.011095      4.0        1.032949   \n",
       "...                            ...            ...      ...             ...   \n",
       "2023-10-31 00:00:00-04:00      2.0       1.008029      2.0        0.960267   \n",
       "2023-11-01 00:00:00-04:00      2.0       1.016123      3.0        0.971325   \n",
       "2023-11-02 00:00:00-04:00      2.0       1.026399      4.0        0.990210   \n",
       "2023-11-03 00:00:00-04:00      2.0       1.024306      5.0        0.999934   \n",
       "2023-11-06 00:00:00-05:00      2.0       1.016585      5.0        1.002063   \n",
       "\n",
       "                           Trend_60  Close_Ratio_250  Trend_250  \\\n",
       "Date                                                              \n",
       "1997-11-26 00:00:00-05:00      33.0         1.113282      138.0   \n",
       "1997-11-28 00:00:00-05:00      33.0         1.116599      139.0   \n",
       "1997-12-01 00:00:00-05:00      34.0         1.138015      140.0   \n",
       "1997-12-02 00:00:00-05:00      33.0         1.133204      140.0   \n",
       "1997-12-03 00:00:00-05:00      33.0         1.137882      141.0   \n",
       "...                             ...              ...        ...   \n",
       "2023-10-31 00:00:00-04:00      27.0         1.004127      124.0   \n",
       "2023-11-01 00:00:00-04:00      28.0         1.014212      125.0   \n",
       "2023-11-02 00:00:00-04:00      29.0         1.032747      126.0   \n",
       "2023-11-03 00:00:00-04:00      29.0         1.041862      126.0   \n",
       "2023-11-06 00:00:00-05:00      30.0         1.043131      126.0   \n",
       "\n",
       "                           Close_Ratio_1000  Trend_1000  \n",
       "Date                                                     \n",
       "1997-11-26 00:00:00-05:00          1.517046       563.0  \n",
       "1997-11-28 00:00:00-05:00          1.521842       564.0  \n",
       "1997-12-01 00:00:00-05:00          1.551433       564.0  \n",
       "1997-12-02 00:00:00-05:00          1.545272       563.0  \n",
       "1997-12-03 00:00:00-05:00          1.552105       564.0  \n",
       "...                                     ...         ...  \n",
       "2023-10-31 00:00:00-04:00          1.071585       526.0  \n",
       "2023-11-01 00:00:00-04:00          1.082524       527.0  \n",
       "2023-11-02 00:00:00-04:00          1.102594       527.0  \n",
       "2023-11-03 00:00:00-04:00          1.112592       527.0  \n",
       "2023-11-06 00:00:00-05:00          1.114182       527.0  \n",
       "\n",
       "[6528 rows x 17 columns]"
      ]
     },
     "execution_count": 43,
     "metadata": {},
     "output_type": "execute_result"
    }
   ],
   "source": [
    "sp500 = sp500.dropna()\n",
    "sp500"
   ]
  },
  {
   "cell_type": "markdown",
   "metadata": {},
   "source": [
    "<h1> Improving the model </h1>"
   ]
  },
  {
   "cell_type": "code",
   "execution_count": 44,
   "metadata": {},
   "outputs": [],
   "source": [
    "model = RandomForestClassifier(n_estimators=200, min_samples_split=50, random_state=1)"
   ]
  },
  {
   "cell_type": "code",
   "execution_count": 45,
   "metadata": {},
   "outputs": [],
   "source": [
    "def predict(train, test, predictors, model):\n",
    "    model.fit(train[predictors], train[\"Target\"])\n",
    "    preds = model.predict_proba(test[predictors])[:,1]\n",
    "    preds[preds >= .6] = 1\n",
    "    preds[preds < .6] = 0\n",
    "    preds = pd.Series(preds, index=test.index, name=\"Predictions\")\n",
    "    combined = pd.concat([test[\"Target\"], preds], axis=1)\n",
    "    return combined"
   ]
  },
  {
   "cell_type": "code",
   "execution_count": 46,
   "metadata": {},
   "outputs": [],
   "source": [
    "predictions = backtest(sp500, model, new_predictors)"
   ]
  },
  {
   "cell_type": "code",
   "execution_count": 48,
   "metadata": {},
   "outputs": [
    {
     "data": {
      "text/plain": [
       "Predictions\n",
       "0.0    3473\n",
       "1.0     555\n",
       "Name: count, dtype: int64"
      ]
     },
     "execution_count": 48,
     "metadata": {},
     "output_type": "execute_result"
    }
   ],
   "source": [
    "predictions[\"Predictions\"].value_counts()"
   ]
  },
  {
   "cell_type": "code",
   "execution_count": 50,
   "metadata": {},
   "outputs": [
    {
     "data": {
      "text/plain": [
       "0.5621621621621622"
      ]
     },
     "execution_count": 50,
     "metadata": {},
     "output_type": "execute_result"
    }
   ],
   "source": [
    "precision_score(predictions[\"Target\"], predictions[\"Predictions\"])"
   ]
  },
  {
   "cell_type": "markdown",
   "metadata": {},
   "source": [
    "<h1>Summary and Next steps with the model</h1>"
   ]
  },
  {
   "cell_type": "markdown",
   "metadata": {},
   "source": []
  }
 ],
 "metadata": {
  "kernelspec": {
   "display_name": ".venv",
   "language": "python",
   "name": "python3"
  },
  "language_info": {
   "codemirror_mode": {
    "name": "ipython",
    "version": 3
   },
   "file_extension": ".py",
   "mimetype": "text/x-python",
   "name": "python",
   "nbconvert_exporter": "python",
   "pygments_lexer": "ipython3",
   "version": "3.10.12"
  }
 },
 "nbformat": 4,
 "nbformat_minor": 2
}
